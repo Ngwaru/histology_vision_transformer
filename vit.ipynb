{
 "cells": [
  {
   "cell_type": "code",
   "execution_count": 2,
   "id": "6557b706",
   "metadata": {},
   "outputs": [],
   "source": [
    "import torch\n",
    "import torch.nn as nn\n",
    "import torch.nn.functional as F\n",
    "\n",
    "from torch.optim import Adam\n",
    "from torch.nn import CrossEntropyLoss\n",
    "from torch.utils.data import DataLoader, Dataset\n",
    "\n",
    "from torchvision.transforms import ToTensor\n",
    "\n",
    "from tqdm import tqdm, trange\n",
    "\n",
    "from zipfile import ZipFile\n",
    "\n",
    "import numpy as np\n",
    "import pandas as pd\n",
    "import matplotlib.pyplot as plt\n",
    "from sklearn.model_selection import train_test_split \n",
    "\n",
    "from numpy.typing import NDArray\n",
    "from typing import Tuple\n",
    "\n",
    "np.random.seed(0)\n",
    "torch.manual_seed(0)\n",
    "\n",
    "RSEED = 0\n",
    "BATCH = 32"
   ]
  },
  {
   "cell_type": "code",
   "execution_count": 3,
   "id": "c97665f2",
   "metadata": {},
   "outputs": [],
   "source": [
    "with ZipFile(\"Colorectal_Histology.zip\", \"r\") as zObject:\n",
    "    zObject.extractall(path=\".\")"
   ]
  },
  {
   "cell_type": "code",
   "execution_count": 4,
   "id": "dbc0504f",
   "metadata": {},
   "outputs": [],
   "source": [
    "df = pd.read_csv(\"hmnist_64_64_L.csv\")\n",
    "X = df.drop('label', axis=1)\n",
    "X = X.to_numpy()\n",
    "y = df.label.to_numpy()\n"
   ]
  },
  {
   "cell_type": "code",
   "execution_count": 5,
   "id": "c264168f",
   "metadata": {},
   "outputs": [
    {
     "data": {
      "text/plain": [
       "numpy.ndarray"
      ]
     },
     "execution_count": 5,
     "metadata": {},
     "output_type": "execute_result"
    }
   ],
   "source": [
    "type(y)"
   ]
  },
  {
   "cell_type": "code",
   "execution_count": 6,
   "id": "e00679e6",
   "metadata": {},
   "outputs": [
    {
     "data": {
      "text/plain": [
       "array([[134,  99, 119, ..., 126, 140, 195],\n",
       "       [ 55,  64,  74, ...,  65,  68,  69],\n",
       "       [114, 116, 136, ..., 129,  89, 122],\n",
       "       ...,\n",
       "       [ 30,  29,  37, ..., 195,  83,  45],\n",
       "       [105, 115, 108, ...,  77,  81,  85],\n",
       "       [ 60,  77,  84, ...,  90,  64,  67]], shape=(5000, 4096))"
      ]
     },
     "execution_count": 6,
     "metadata": {},
     "output_type": "execute_result"
    }
   ],
   "source": [
    "X"
   ]
  },
  {
   "cell_type": "code",
   "execution_count": 7,
   "id": "010067cb",
   "metadata": {},
   "outputs": [],
   "source": [
    "class histo(Dataset):\n",
    "    def __init__(self, X:NDArray[np.int8], y:NDArray[np.int8])->None:\n",
    "        X = torch.tensor(X, dtype=torch.uint8).view(-1, 3, 28, 28)\n",
    "        self.X = X.float()/255\n",
    "        if y is None:\n",
    "            self.y = None\n",
    "        else:\n",
    "            self.y = y\n",
    "\n",
    "    def __len__(self)->int:\n",
    "        return len(self.X)\n",
    "    \n",
    "    def __getitem__(self, idx:int)->int:\n",
    "        return self.X[idx], self.y[idx]\n",
    "    \n",
    "    @staticmethod\n",
    "    def create_split(X, y, train_fraction:float, val_fraction:float, test_fraction:float)->Tuple[Dataset, Dataset, Dataset]:\n",
    "        assert train_fraction + val_fraction + test_fraction <= 1\n",
    "\n",
    "        X_train, X_val, y_train, y_val = train_test_split(X, y, test_size=val_fraction)\n",
    "\n",
    "        train_data = histo(X_train, y_train)\n",
    "        val_data = histo(X_val, y_val)\n",
    "\n",
    "        return train_data, val_data\n"
   ]
  },
  {
   "cell_type": "code",
   "execution_count": 8,
   "id": "646413ef",
   "metadata": {},
   "outputs": [
    {
     "ename": "RuntimeError",
     "evalue": "shape '[-1, 3, 28, 28]' is invalid for input of size 10240000",
     "output_type": "error",
     "traceback": [
      "\u001b[31m---------------------------------------------------------------------------\u001b[39m",
      "\u001b[31mRuntimeError\u001b[39m                              Traceback (most recent call last)",
      "\u001b[36mCell\u001b[39m\u001b[36m \u001b[39m\u001b[32mIn[8]\u001b[39m\u001b[32m, line 1\u001b[39m\n\u001b[32m----> \u001b[39m\u001b[32m1\u001b[39m train_data, val_data = \u001b[43mhisto\u001b[49m\u001b[43m.\u001b[49m\u001b[43mcreate_split\u001b[49m\u001b[43m(\u001b[49m\u001b[43mX\u001b[49m\u001b[43m,\u001b[49m\u001b[43m \u001b[49m\u001b[43my\u001b[49m\u001b[43m,\u001b[49m\u001b[43m \u001b[49m\u001b[32;43m0.5\u001b[39;49m\u001b[43m,\u001b[49m\u001b[43m \u001b[49m\u001b[32;43m0.5\u001b[39;49m\u001b[43m,\u001b[49m\u001b[32;43m0.0\u001b[39;49m\u001b[43m)\u001b[49m\n",
      "\u001b[36mCell\u001b[39m\u001b[36m \u001b[39m\u001b[32mIn[7]\u001b[39m\u001b[32m, line 22\u001b[39m, in \u001b[36mhisto.create_split\u001b[39m\u001b[34m(X, y, train_fraction, val_fraction, test_fraction)\u001b[39m\n\u001b[32m     18\u001b[39m \u001b[38;5;28;01massert\u001b[39;00m train_fraction + val_fraction + test_fraction <= \u001b[32m1\u001b[39m\n\u001b[32m     20\u001b[39m X_train, X_val, y_train, y_val = train_test_split(X, y, test_size=val_fraction)\n\u001b[32m---> \u001b[39m\u001b[32m22\u001b[39m train_data = \u001b[43mhisto\u001b[49m\u001b[43m(\u001b[49m\u001b[43mX_train\u001b[49m\u001b[43m,\u001b[49m\u001b[43m \u001b[49m\u001b[43my_train\u001b[49m\u001b[43m)\u001b[49m\n\u001b[32m     23\u001b[39m val_data = histo(X_val, y_val)\n\u001b[32m     25\u001b[39m \u001b[38;5;28;01mreturn\u001b[39;00m train_data, val_data\n",
      "\u001b[36mCell\u001b[39m\u001b[36m \u001b[39m\u001b[32mIn[7]\u001b[39m\u001b[32m, line 3\u001b[39m, in \u001b[36mhisto.__init__\u001b[39m\u001b[34m(self, X, y)\u001b[39m\n\u001b[32m      2\u001b[39m \u001b[38;5;28;01mdef\u001b[39;00m\u001b[38;5;250m \u001b[39m\u001b[34m__init__\u001b[39m(\u001b[38;5;28mself\u001b[39m, X:NDArray[np.int8], y:NDArray[np.int8])->\u001b[38;5;28;01mNone\u001b[39;00m:\n\u001b[32m----> \u001b[39m\u001b[32m3\u001b[39m     X = \u001b[43mtorch\u001b[49m\u001b[43m.\u001b[49m\u001b[43mtensor\u001b[49m\u001b[43m(\u001b[49m\u001b[43mX\u001b[49m\u001b[43m,\u001b[49m\u001b[43m \u001b[49m\u001b[43mdtype\u001b[49m\u001b[43m=\u001b[49m\u001b[43mtorch\u001b[49m\u001b[43m.\u001b[49m\u001b[43muint8\u001b[49m\u001b[43m)\u001b[49m\u001b[43m.\u001b[49m\u001b[43mview\u001b[49m\u001b[43m(\u001b[49m\u001b[43m-\u001b[49m\u001b[32;43m1\u001b[39;49m\u001b[43m,\u001b[49m\u001b[43m \u001b[49m\u001b[32;43m3\u001b[39;49m\u001b[43m,\u001b[49m\u001b[43m \u001b[49m\u001b[32;43m28\u001b[39;49m\u001b[43m,\u001b[49m\u001b[43m \u001b[49m\u001b[32;43m28\u001b[39;49m\u001b[43m)\u001b[49m\n\u001b[32m      4\u001b[39m     \u001b[38;5;28mself\u001b[39m.X = X.float()/\u001b[32m255\u001b[39m\n\u001b[32m      5\u001b[39m     \u001b[38;5;28;01mif\u001b[39;00m y \u001b[38;5;129;01mis\u001b[39;00m \u001b[38;5;28;01mNone\u001b[39;00m:\n",
      "\u001b[31mRuntimeError\u001b[39m: shape '[-1, 3, 28, 28]' is invalid for input of size 10240000"
     ]
    }
   ],
   "source": [
    "train_data, val_data = histo.create_split(X, y, 0.5, 0.5,0.0)"
   ]
  },
  {
   "cell_type": "code",
   "execution_count": null,
   "id": "3ce9b3f2",
   "metadata": {},
   "outputs": [
    {
     "data": {
      "text/plain": [
       "(array([0.28627452, 0.30588236, 0.40784314, ..., 0.30980393, 0.29411766,\n",
       "        0.29411766], shape=(4096,), dtype=float32),\n",
       " np.int64(5))"
      ]
     },
     "execution_count": 70,
     "metadata": {},
     "output_type": "execute_result"
    }
   ],
   "source": [
    "train_data[25]"
   ]
  },
  {
   "cell_type": "code",
   "execution_count": null,
   "id": "e5353327",
   "metadata": {},
   "outputs": [],
   "source": [
    "def  main():\n",
    "\n",
    "\n",
    "    train_loader = DataLoader(train_data, batch_size=BATCH, shuffle=True)\n",
    "    val_loader = DataLoader(val_data, batch_size=BATCH, shuffle=False)\n",
    "\n",
    "    device = torch.device(\"cuda\" if torch.cuda.is_available() else \"cpu\")\n",
    "\n",
    "    model = ViTModel((1, 28, 28), n_patches=16, n_blocks=2, hidden_d=8, n_heads=2, out_d=10).to(device)\n",
    "    num_epochs = 4\n",
    "    learn_rate = 0.005\n",
    "\n",
    "    optimizer = Adam(model.parameters(), lr=learn_rate)\n",
    "    loss_fn = CrossEntropyLoss()\n",
    "\n",
    "    for epoch in trange(num_epochs, desc=\"Training\"):\n",
    "        train_loss = 0.0\n",
    "        for batch in tqdm(train_loader, desc=f\"Epoch {epoch +1} in training\", leave=False):\n",
    "            X, y = batch\n",
    "            X, y = X.to(device), y.to(device)\n",
    "            y_pred = model(X)\n",
    "            loss = loss_fn(y_pred, y)\n",
    "\n",
    "            train_loss += loss.detach().cpu().item()/len(train_loader)\n",
    "\n",
    "            optimizer.zero_grad()\n",
    "            loss.backward()\n",
    "            optimizer.step()\n",
    "\n",
    "        print(f\"Epoch {epoch+1}/{num_epochs} loss: {train_loss:.3f}\")\n",
    "\n",
    "        with torch.no_grad():\n",
    "            correct, total = 0,  0\n",
    "\n",
    "            test_loss = 0.0\n",
    "\n",
    "            for batch in tqdm(val_loader, desc=\"Testing\"):\n",
    "                X, y = batch\n",
    "                X, y = X.to(device), y.to(device)\n",
    "\n",
    "                y_pred = model(X)\n",
    "\n",
    "                loss = loss_fn(y_pred, y)\n",
    "\n",
    "                test_loss += loss.detach().cpu().item()/len(val_loader)\n",
    "\n",
    "                correct += torch.sum(torch.argmax(y_pred, dim=1)==y).detach().cpu().item()\n",
    "                total += len(X)\n",
    "            print(f\"Test loss: {test_loss:.3f}\")\n",
    "            print(f\"Test accuracy: {correct/total*100:.3f}\")\n",
    "\n",
    "\n",
    "\n",
    "    "
   ]
  },
  {
   "cell_type": "code",
   "execution_count": null,
   "id": "cb501c8a",
   "metadata": {},
   "outputs": [],
   "source": [
    "class ViTModel(nn.Model):\n",
    "    def __init__(self):\n",
    "        super(ViTModel, self).__init__()\n",
    "\n",
    "    def foward(self):\n",
    "        pass"
   ]
  },
  {
   "cell_type": "code",
   "execution_count": 74,
   "id": "72168147",
   "metadata": {},
   "outputs": [],
   "source": [
    "def make_patches(images, num_patches):\n",
    "    n, c, h, w = images.shape\n",
    "\n",
    "    assert h == w\n",
    "\n",
    "    patches = torch.zeros(n, num_patches**2, h*w*c//num_patches**2)\n",
    "    patch_size = h//num_patches\n",
    "\n",
    "    for idx, image in enumerate(images):\n",
    "        for i in num_patches:\n",
    "            for j in num_patches:\n",
    "                patch = image[:, i*patch_size:(i+1)*patch_size, j*patch_size:(j+1)*patch_size]\n",
    "                patches[idx, i*num_patches+j] = patch.flatten()\n",
    "    return patches"
   ]
  },
  {
   "cell_type": "code",
   "execution_count": null,
   "id": "50e6447f",
   "metadata": {},
   "outputs": [],
   "source": []
  }
 ],
 "metadata": {
  "kernelspec": {
   "display_name": "vit_env_two",
   "language": "python",
   "name": "python3"
  },
  "language_info": {
   "codemirror_mode": {
    "name": "ipython",
    "version": 3
   },
   "file_extension": ".py",
   "mimetype": "text/x-python",
   "name": "python",
   "nbconvert_exporter": "python",
   "pygments_lexer": "ipython3",
   "version": "3.11.0"
  }
 },
 "nbformat": 4,
 "nbformat_minor": 5
}
